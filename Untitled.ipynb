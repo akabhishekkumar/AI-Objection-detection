{
 "cells": [
  {
   "cell_type": "code",
   "execution_count": 8,
   "id": "13c5cab7",
   "metadata": {
    "collapsed": true
   },
   "outputs": [
    {
     "name": "stdout",
     "output_type": "stream",
     "text": [
      "Requirement already satisfied: swat in c:\\users\\ishord\\anaconda3\\lib\\site-packages (1.12.1)\n",
      "Requirement already satisfied: urllib3 in c:\\users\\ishord\\anaconda3\\lib\\site-packages (from swat) (1.26.11)\n",
      "Requirement already satisfied: six>=1.9.0 in c:\\users\\ishord\\anaconda3\\lib\\site-packages (from swat) (1.16.0)\n",
      "Requirement already satisfied: pandas>=0.16.0 in c:\\users\\ishord\\anaconda3\\lib\\site-packages (from swat) (1.4.4)\n",
      "Requirement already satisfied: requests in c:\\users\\ishord\\anaconda3\\lib\\site-packages (from swat) (2.28.1)\n",
      "Requirement already satisfied: pytz in c:\\users\\ishord\\anaconda3\\lib\\site-packages (from swat) (2022.1)\n",
      "Requirement already satisfied: python-dateutil>=2.8.1 in c:\\users\\ishord\\anaconda3\\lib\\site-packages (from pandas>=0.16.0->swat) (2.8.2)\n",
      "Requirement already satisfied: numpy>=1.18.5 in c:\\users\\ishord\\anaconda3\\lib\\site-packages (from pandas>=0.16.0->swat) (1.23.0)\n",
      "Requirement already satisfied: charset-normalizer<3,>=2 in c:\\users\\ishord\\anaconda3\\lib\\site-packages (from requests->swat) (2.0.4)\n",
      "Requirement already satisfied: certifi>=2017.4.17 in c:\\users\\ishord\\anaconda3\\lib\\site-packages (from requests->swat) (2022.9.14)\n",
      "Requirement already satisfied: idna<4,>=2.5 in c:\\users\\ishord\\anaconda3\\lib\\site-packages (from requests->swat) (3.3)\n"
     ]
    }
   ],
   "source": [
    "!pip install swat\n"
   ]
  },
  {
   "cell_type": "code",
   "execution_count": 9,
   "id": "69ac64cd",
   "metadata": {},
   "outputs": [],
   "source": [
    "import swat"
   ]
  },
  {
   "cell_type": "code",
   "execution_count": null,
   "id": "d56e52eb",
   "metadata": {},
   "outputs": [],
   "source": []
  }
 ],
 "metadata": {
  "kernelspec": {
   "display_name": "Python 3 (ipykernel)",
   "language": "python",
   "name": "python3"
  },
  "language_info": {
   "codemirror_mode": {
    "name": "ipython",
    "version": 3
   },
   "file_extension": ".py",
   "mimetype": "text/x-python",
   "name": "python",
   "nbconvert_exporter": "python",
   "pygments_lexer": "ipython3",
   "version": "3.9.13"
  }
 },
 "nbformat": 4,
 "nbformat_minor": 5
}
